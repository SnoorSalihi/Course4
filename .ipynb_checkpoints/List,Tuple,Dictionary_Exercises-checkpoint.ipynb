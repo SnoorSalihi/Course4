{
 "cells": [
  {
   "cell_type": "markdown",
   "id": "f2a4152b",
   "metadata": {},
   "source": [
    "<h1>Python Tuples Exercises</h1>"
   ]
  },
  {
   "cell_type": "code",
   "execution_count": 42,
   "id": "aa8e3506",
   "metadata": {},
   "outputs": [
    {
     "data": {
      "text/plain": [
       "('NPower', 'JDA', 'Tuesday', 30, 31, 2021)"
      ]
     },
     "execution_count": 42,
     "metadata": {},
     "output_type": "execute_result"
    }
   ],
   "source": [
    "#Q1 Create myTuple tuple with the follwoing values (\"NPower\",\"JDA\",\"Tuesday\",30,31,2021)\n",
    "myTuple = (\"NPower\",\"JDA\",\"Tuesday\",30,31,2021)\n",
    "myTuple"
   ]
  },
  {
   "cell_type": "code",
   "execution_count": 32,
   "id": "b213e2b1",
   "metadata": {},
   "outputs": [
    {
     "data": {
      "text/plain": [
       "tuple"
      ]
     },
     "execution_count": 32,
     "metadata": {},
     "output_type": "execute_result"
    }
   ],
   "source": [
    "#Q2 What is the type of myTuple\n",
    "type(myTuple)"
   ]
  },
  {
   "cell_type": "code",
   "execution_count": 33,
   "id": "52219939",
   "metadata": {},
   "outputs": [
    {
     "data": {
      "text/plain": [
       "6"
      ]
     },
     "execution_count": 33,
     "metadata": {},
     "output_type": "execute_result"
    }
   ],
   "source": [
    "#Q3 What is the length of myTuple\n",
    "len(myTuple)"
   ]
  },
  {
   "cell_type": "code",
   "execution_count": 34,
   "id": "98e344af",
   "metadata": {},
   "outputs": [
    {
     "data": {
      "text/plain": [
       "('NPower', 'JDA', 'Tuesday', 30, 31, 2021)"
      ]
     },
     "execution_count": 34,
     "metadata": {},
     "output_type": "execute_result"
    }
   ],
   "source": [
    "#Q4 print the values in each index #Use regular indexing\n",
    "myTuple[0:6]"
   ]
  },
  {
   "cell_type": "code",
   "execution_count": 35,
   "id": "799ec9d0",
   "metadata": {},
   "outputs": [
    {
     "data": {
      "text/plain": [
       "('NPower', 'JDA', 'Tuesday', 30, 31)"
      ]
     },
     "execution_count": 35,
     "metadata": {},
     "output_type": "execute_result"
    }
   ],
   "source": [
    "#Q5 print the values in each index #Use negative indexing\n",
    "myTuple[-7:-1:1]"
   ]
  },
  {
   "cell_type": "code",
   "execution_count": 36,
   "id": "186d7008",
   "metadata": {},
   "outputs": [
    {
     "name": "stdout",
     "output_type": "stream",
     "text": [
      "<class 'str'>\n",
      "<class 'str'>\n",
      "<class 'str'>\n",
      "<class 'int'>\n",
      "<class 'int'>\n",
      "[<class 'str'>, <class 'str'>, <class 'str'>, <class 'int'>, <class 'int'>, <class 'int'>]\n"
     ]
    }
   ],
   "source": [
    "#Q6 what is the type of each value\n",
    "print(type(myTuple[0]))\n",
    "print(type(myTuple[1]))\n",
    "print(type(myTuple[2]))\n",
    "print(type(myTuple[3]))\n",
    "print(type(myTuple[4]))\n",
    "\n",
    "# or we can write map method\n",
    "myTuple = list(map(type,myTuple))\n",
    "print(myTuple)"
   ]
  },
  {
   "cell_type": "code",
   "execution_count": 45,
   "id": "3c756b90",
   "metadata": {},
   "outputs": [
    {
     "name": "stdout",
     "output_type": "stream",
     "text": [
      "NPower\n",
      "JDA\n",
      "Tuesday\n",
      "30\n",
      "31\n",
      "2021\n"
     ]
    }
   ],
   "source": [
    "#Q7 unpack myTuple in the follwoeing variables name,program,dayName,month,day,yea\n",
    "# print the variables\n",
    "(name,program,dayName,month,day,year)=myTuple\n",
    "print(name)\n",
    "print(program)\n",
    "print(dayName)\n",
    "print(month)\n",
    "print(day)\n",
    "print(year)"
   ]
  },
  {
   "cell_type": "code",
   "execution_count": 46,
   "id": "85f70785",
   "metadata": {},
   "outputs": [
    {
     "ename": "TypeError",
     "evalue": "unsupported operand type(s) for &: 'tuple' and 'tuple'",
     "output_type": "error",
     "traceback": [
      "\u001b[0;31m---------------------------------------------------------------------------\u001b[0m",
      "\u001b[0;31mTypeError\u001b[0m                                 Traceback (most recent call last)",
      "\u001b[0;32m/var/folders/07/y4gsr9hx6l51zwvd1bh3n9vh0000gn/T/ipykernel_8530/3635747643.py\u001b[0m in \u001b[0;36m<module>\u001b[0;34m\u001b[0m\n\u001b[1;32m      1\u001b[0m \u001b[0;31m#Q8 unpack myTuple2 in the follwoeing variables name,program,dayName.\u001b[0m\u001b[0;34m\u001b[0m\u001b[0;34m\u001b[0m\u001b[0m\n\u001b[1;32m      2\u001b[0m \u001b[0;31m# What will happen to variables (name,program,dayName) and (month,day,year)\u001b[0m\u001b[0;34m\u001b[0m\u001b[0;34m\u001b[0m\u001b[0m\n\u001b[0;32m----> 3\u001b[0;31m \u001b[0mmyTuple2\u001b[0m \u001b[0;34m=\u001b[0m \u001b[0;34m(\u001b[0m\u001b[0mname\u001b[0m\u001b[0;34m,\u001b[0m\u001b[0mprogram\u001b[0m\u001b[0;34m,\u001b[0m\u001b[0mdayName\u001b[0m\u001b[0;34m)\u001b[0m \u001b[0;34m&\u001b[0m \u001b[0;34m(\u001b[0m\u001b[0mmonth\u001b[0m\u001b[0;34m,\u001b[0m\u001b[0mday\u001b[0m\u001b[0;34m,\u001b[0m\u001b[0myear\u001b[0m\u001b[0;34m)\u001b[0m\u001b[0;34m\u001b[0m\u001b[0;34m\u001b[0m\u001b[0m\n\u001b[0m",
      "\u001b[0;31mTypeError\u001b[0m: unsupported operand type(s) for &: 'tuple' and 'tuple'"
     ]
    }
   ],
   "source": [
    "#Q8 unpack myTuple2 in the follwoeing variables name,program,dayName.\n",
    "# What will happen to variables (name,program,dayName) and (month,day,year)\n",
    "myTuple2 = (name,program,dayName) & (month,day,year)\n"
   ]
  },
  {
   "cell_type": "code",
   "execution_count": 9,
   "id": "c0505612",
   "metadata": {},
   "outputs": [
    {
     "name": "stdout",
     "output_type": "stream",
     "text": [
      "Type a <class 'str'>\n",
      "Jerry 2 89\n",
      "<class 'tuple'>\n",
      "('Ulan',)\n",
      "Leul\n"
     ]
    }
   ],
   "source": [
    "# Note the following\n",
    "Tuple1=(\"Jerry\",2,89) #This is a tuple with 3 elements\n",
    "Tuple2=(\"Ulan\",)#This is a tuple with 1 element\n",
    "test=\"Leul\" #This is a VARIABLE with string value\n",
    "a,b,c=Tuple1\n",
    "print(\"Type a\",type(a))\n",
    "print(a,b,c)\n",
    "d=Tuple2\n",
    "print(type(d))\n",
    "print(d)\n",
    "e=test\n",
    "print(e)"
   ]
  },
  {
   "cell_type": "code",
   "execution_count": 47,
   "id": "e65d38bf",
   "metadata": {},
   "outputs": [
    {
     "data": {
      "text/plain": [
       "(2021, 31, 30, 'Tuesday', 'JDA', 'NPower')"
      ]
     },
     "execution_count": 47,
     "metadata": {},
     "output_type": "execute_result"
    }
   ],
   "source": [
    "#Q9 Reverse myTuple, output should looks like (2021,3,30,\"Tuesday\",\"JDA\",\"NPower\")\n",
    "myTuple[::-1]"
   ]
  },
  {
   "cell_type": "code",
   "execution_count": 48,
   "id": "a1fca50e",
   "metadata": {},
   "outputs": [
    {
     "data": {
      "text/plain": [
       "(('Coursera', 'course', 6), 'week', (2, 'Lists', 'Tuple'))"
      ]
     },
     "execution_count": 48,
     "metadata": {},
     "output_type": "execute_result"
    }
   ],
   "source": [
    "#Q10 Create nestedTuple=((\"Coursera\",\"course\",6),(\"week\",(2,\"Lists\",\"Tuple\")))\n",
    "A=(\"Coursera\",\"course\",6)\n",
    "B=(\"week\")\n",
    "C=(2,\"Lists\",\"Tuple\")\n",
    "\n",
    "nestedTuple = (A, B, C)\n",
    "nestedTuple"
   ]
  },
  {
   "cell_type": "code",
   "execution_count": 49,
   "id": "de9450d4",
   "metadata": {},
   "outputs": [
    {
     "data": {
      "text/plain": [
       "('week',)"
      ]
     },
     "execution_count": 49,
     "metadata": {},
     "output_type": "execute_result"
    }
   ],
   "source": [
    "#Q11 What is the output of nestedTuple[1:2]\n",
    "nestedTuple[1:2]"
   ]
  },
  {
   "cell_type": "code",
   "execution_count": 50,
   "id": "dfa3c4bb",
   "metadata": {},
   "outputs": [
    {
     "data": {
      "text/plain": [
       "(('Coursera', 'course', 6), 'week', (2, 'Lists', 'Tuple'))"
      ]
     },
     "execution_count": 50,
     "metadata": {},
     "output_type": "execute_result"
    }
   ],
   "source": [
    "#Q12 print each element in the nestedTuple\n",
    "nestedTuple"
   ]
  },
  {
   "cell_type": "code",
   "execution_count": 51,
   "id": "24b4282a",
   "metadata": {},
   "outputs": [
    {
     "data": {
      "text/plain": [
       "(2, 'Lists', 'Tuple')"
      ]
     },
     "execution_count": 51,
     "metadata": {},
     "output_type": "execute_result"
    }
   ],
   "source": [
    "#Q13 Access (2,\"Lists\",\"Tuple\") from nestedTuple\n",
    "nestedTuple[2]"
   ]
  },
  {
   "cell_type": "code",
   "execution_count": 52,
   "id": "cb7479b5",
   "metadata": {},
   "outputs": [
    {
     "data": {
      "text/plain": [
       "'Lists'"
      ]
     },
     "execution_count": 52,
     "metadata": {},
     "output_type": "execute_result"
    }
   ],
   "source": [
    "#Q14 Access the value \"Lists\" from nestedTuple\n",
    "nestedTuple[2][1]"
   ]
  },
  {
   "cell_type": "code",
   "execution_count": 53,
   "id": "6df1254b",
   "metadata": {},
   "outputs": [
    {
     "data": {
      "text/plain": [
       "'Tuple'"
      ]
     },
     "execution_count": 53,
     "metadata": {},
     "output_type": "execute_result"
    }
   ],
   "source": [
    "#Q15 Access the value \"Tuple\" from nestedTuple\n",
    "nestedTuple[2][2]"
   ]
  },
  {
   "cell_type": "code",
   "execution_count": 54,
   "id": "e3b5b28d",
   "metadata": {},
   "outputs": [
    {
     "data": {
      "text/plain": [
       "'course'"
      ]
     },
     "execution_count": 54,
     "metadata": {},
     "output_type": "execute_result"
    }
   ],
   "source": [
    "#Q16 Access the value \"course\" from nestedTuple\n",
    "nestedTuple[0][1]"
   ]
  },
  {
   "cell_type": "code",
   "execution_count": 55,
   "id": "f66799a3",
   "metadata": {},
   "outputs": [
    {
     "data": {
      "text/plain": [
       "('NPower',\n",
       " 'JDA',\n",
       " 'Tuesday',\n",
       " 30,\n",
       " 31,\n",
       " 2021,\n",
       " ('Coursera', 'course', 6),\n",
       " 'week',\n",
       " (2, 'Lists', 'Tuple'))"
      ]
     },
     "execution_count": 55,
     "metadata": {},
     "output_type": "execute_result"
    }
   ],
   "source": [
    "#Q17 Concatenate myTuple with nestedTuple\n",
    "myTuple=myTuple+nestedTuple\n",
    "myTuple"
   ]
  },
  {
   "cell_type": "code",
   "execution_count": 56,
   "id": "d0756ef5",
   "metadata": {},
   "outputs": [
    {
     "data": {
      "text/plain": [
       "(('NPower',\n",
       "  'JDA',\n",
       "  'Tuesday',\n",
       "  30,\n",
       "  31,\n",
       "  2021,\n",
       "  ('Coursera', 'course', 6),\n",
       "  'week',\n",
       "  (2, 'Lists', 'Tuple')),\n",
       " 'Kowcika')"
      ]
     },
     "execution_count": 56,
     "metadata": {},
     "output_type": "execute_result"
    }
   ],
   "source": [
    "#Q18 add your name to the tuple\n",
    "name=(('Kowcika'))\n",
    "newTuple=(myTuple,name)\n",
    "newTuple"
   ]
  },
  {
   "cell_type": "code",
   "execution_count": 57,
   "id": "fbfc021f",
   "metadata": {},
   "outputs": [],
   "source": [
    "#Q19 check whether Coursera exists within myTuple\n",
    "# NOTE \"in\" doesn't work properly with nested tuples"
   ]
  },
  {
   "cell_type": "code",
   "execution_count": 58,
   "id": "b9a72f7f",
   "metadata": {},
   "outputs": [
    {
     "name": "stdout",
     "output_type": "stream",
     "text": [
      "Number exists\n"
     ]
    }
   ],
   "source": [
    "#Q20 check whether 55 exists within testTuple\n",
    "testTuple=(1,2,33,55,6,55)\n",
    "number=55\n",
    "for number in testTuple:\n",
    "     print(\"Number exists\")\n",
    "     break;"
   ]
  },
  {
   "cell_type": "code",
   "execution_count": 59,
   "id": "f68ac9b0",
   "metadata": {},
   "outputs": [
    {
     "name": "stdout",
     "output_type": "stream",
     "text": [
      "Number exists\n"
     ]
    }
   ],
   "source": [
    "#Q20 check whether 55 exists within testTuple\n",
    "testTuple=(1,2,33,55,6,55)\n",
    "number=55\n",
    "for number in testTuple:\n",
    "     print(\"Number exists\")\n",
    "     break;"
   ]
  },
  {
   "cell_type": "code",
   "execution_count": 60,
   "id": "5f1475fc",
   "metadata": {},
   "outputs": [
    {
     "ename": "IndexError",
     "evalue": "tuple index out of range",
     "output_type": "error",
     "traceback": [
      "\u001b[0;31m---------------------------------------------------------------------------\u001b[0m",
      "\u001b[0;31mIndexError\u001b[0m                                Traceback (most recent call last)",
      "\u001b[0;32m/var/folders/07/y4gsr9hx6l51zwvd1bh3n9vh0000gn/T/ipykernel_8530/1163292033.py\u001b[0m in \u001b[0;36m<module>\u001b[0;34m\u001b[0m\n\u001b[1;32m      1\u001b[0m \u001b[0;31m#Q22 print index 8 from newTuple\u001b[0m\u001b[0;34m\u001b[0m\u001b[0;34m\u001b[0m\u001b[0m\n\u001b[0;32m----> 2\u001b[0;31m \u001b[0mnewTuple\u001b[0m\u001b[0;34m[\u001b[0m\u001b[0;36m8\u001b[0m\u001b[0;34m]\u001b[0m\u001b[0;34m\u001b[0m\u001b[0;34m\u001b[0m\u001b[0m\n\u001b[0m",
      "\u001b[0;31mIndexError\u001b[0m: tuple index out of range"
     ]
    }
   ],
   "source": [
    "#Q22 print index 8 from newTuple\n",
    "newTuple[8]"
   ]
  },
  {
   "cell_type": "code",
   "execution_count": 61,
   "id": "ea3f4d6a",
   "metadata": {},
   "outputs": [
    {
     "name": "stdout",
     "output_type": "stream",
     "text": [
      "30\n",
      "2\n"
     ]
    }
   ],
   "source": [
    "#Q23 Get the 4th element from the begining of myTuple and 4th element from last \n",
    "print(newTuple[0][3])\n",
    "print(newTuple[0][8][0])"
   ]
  },
  {
   "cell_type": "code",
   "execution_count": 62,
   "id": "05e06a7b",
   "metadata": {},
   "outputs": [
    {
     "data": {
      "text/plain": [
       "2"
      ]
     },
     "execution_count": 62,
     "metadata": {},
     "output_type": "execute_result"
    }
   ],
   "source": [
    "#Q24 Find how many times 55 appeared in testTuple [Hint: Use method count()]\n",
    "testTuple.count(55)"
   ]
  },
  {
   "cell_type": "markdown",
   "id": "13cab4f3",
   "metadata": {},
   "source": [
    "<h1>Python Lists Exercises</h1>"
   ]
  },
  {
   "cell_type": "code",
   "execution_count": 63,
   "id": "b662a0c4",
   "metadata": {},
   "outputs": [
    {
     "name": "stdout",
     "output_type": "stream",
     "text": [
      "Min element number in the listis: 1\n",
      "Max number in the listis: 6\n",
      "Sum of elements in the listis: 21\n"
     ]
    }
   ],
   "source": [
    "L=[1,2,3,4,5,6]\n",
    "print(\"Min element number in the listis:\",min(L))\n",
    "print(\"Max number in the listis:\",max(L))\n",
    "print(\"Sum of elements in the listis:\",sum(L))\n"
   ]
  },
  {
   "cell_type": "code",
   "execution_count": 64,
   "id": "79f985e7",
   "metadata": {},
   "outputs": [
    {
     "data": {
      "text/plain": [
       "[2, 7, 1, 5, 4, 3, 2]"
      ]
     },
     "execution_count": 64,
     "metadata": {},
     "output_type": "execute_result"
    }
   ],
   "source": [
    "L1=[2,3,4,5,1,7,2]\n",
    "L1.reverse()\n",
    "L1"
   ]
  },
  {
   "cell_type": "code",
   "execution_count": 65,
   "id": "704c918e",
   "metadata": {},
   "outputs": [
    {
     "data": {
      "text/plain": [
       "[1, 2, 2, 3, 4, 5, 7]"
      ]
     },
     "execution_count": 65,
     "metadata": {},
     "output_type": "execute_result"
    }
   ],
   "source": [
    "L1.sort()\n",
    "L1"
   ]
  },
  {
   "cell_type": "code",
   "execution_count": 67,
   "id": "e2c4b6bb",
   "metadata": {},
   "outputs": [
    {
     "data": {
      "text/plain": [
       "2"
      ]
     },
     "execution_count": 67,
     "metadata": {},
     "output_type": "execute_result"
    }
   ],
   "source": [
    "#count how many element 2 in list\n",
    "L1.count(2)"
   ]
  },
  {
   "cell_type": "code",
   "execution_count": 68,
   "id": "bd3389d1",
   "metadata": {},
   "outputs": [
    {
     "data": {
      "text/plain": [
       "[[1, 2, 2, 3, 4, 5, 7, 1, 2, 2, 3, 4, 5, 7]]"
      ]
     },
     "execution_count": 68,
     "metadata": {},
     "output_type": "execute_result"
    }
   ],
   "source": [
    "L2=[L1*2]\n",
    "L2"
   ]
  },
  {
   "cell_type": "code",
   "execution_count": 70,
   "id": "519833a2",
   "metadata": {},
   "outputs": [
    {
     "data": {
      "text/plain": [
       "('Abdul Wahid Khudayar',\n",
       " 'Addy Rose',\n",
       " 'Anuoluwapo Oluseyi',\n",
       " 'Aravindh Kuppusamy Haridoss',\n",
       " 'Carlo Halnin',\n",
       " 'Juned Chhiboo',\n",
       " 'Cici Ann Joji',\n",
       " 'DHRUVKUMAR PATEL',\n",
       " 'Erkan Kumesogut',\n",
       " 'Exaltacao Rodrigues',\n",
       " 'fatma tuncalan',\n",
       " 'harpreet kaur',\n",
       " 'Harun Omar-Godane',\n",
       " 'Hossain Ghahraloud',\n",
       " 'Jesso Thomas',\n",
       " 'Kamiar Mehmannavazan',\n",
       " 'Karthik Sai',\n",
       " 'Kwabena Gyasi-Boateng',\n",
       " 'L Reetika',\n",
       " 'mariya amtullah',\n",
       " 'Marwa Musa',\n",
       " 'Meelad Armani',\n",
       " 'Miguel Diaz',\n",
       " 'Mohammad Dabbour',\n",
       " 'Pouria Raziei',\n",
       " 'Reena Thakur',\n",
       " 'Robin Francis Thomas',\n",
       " 'Rohan Thomas',\n",
       " 'Ronit Soni',\n",
       " 'Sameeha Bala',\n",
       " 'Supriya Kanda',\n",
       " 'Weslie Chung',\n",
       " 'Ying Fei Li',\n",
       " 'Poojan Modi',\n",
       " 'Alexander Hailu',\n",
       " 'Ekaterina Shalygina',\n",
       " 'Nevin Tomy',\n",
       " 'Jason Huang',\n",
       " 'Anindita',\n",
       " 'Vrunda Patel',\n",
       " 'Sravan Pingali')"
      ]
     },
     "execution_count": 70,
     "metadata": {},
     "output_type": "execute_result"
    }
   ],
   "source": [
    "#Q1 Create a tuple with all participant names in the JDA program\n",
    "JDA_Tuple = (\"Abdul Wahid Khudayar\",\n",
    "\"Addy Rose\",\n",
    "\"Anuoluwapo Oluseyi\",\n",
    "\"Aravindh Kuppusamy Haridoss\",\n",
    "\"Carlo Halnin\",\n",
    "\"Juned Chhiboo\",\n",
    "\"Cici Ann Joji\",\n",
    "\"DHRUVKUMAR PATEL\",\n",
    "\"Erkan Kumesogut\",\n",
    "\"Exaltacao Rodrigues\",\n",
    "\"fatma tuncalan\",\n",
    "\"harpreet kaur\",\n",
    "\"Harun Omar-Godane\",\n",
    "\"Hossain Ghahraloud\",\n",
    "\"Jesso Thomas\",\n",
    "\"Kamiar Mehmannavazan\",\n",
    "\"Karthik Sai\",\n",
    "\"Kwabena Gyasi-Boateng\",\n",
    "\"L Reetika\",\n",
    "\"mariya amtullah\",\n",
    "\"Marwa Musa\",\n",
    "\"Meelad Armani\",\n",
    "\"Miguel Diaz\",\n",
    "\"Mohammad Dabbour\",\n",
    "\"Pouria Raziei\",\n",
    "\"Reena Thakur\",\n",
    "\"Robin Francis Thomas\",\n",
    "\"Rohan Thomas\",\n",
    "\"Ronit Soni\",\n",
    "\"Sameeha Bala\",\n",
    "\"Supriya Kanda\",\n",
    "\"Weslie Chung\",\n",
    "\"Ying Fei Li\",\n",
    "\"Poojan Modi\",\n",
    "\"Alexander Hailu\",\n",
    "\"Ekaterina Shalygina\",\n",
    "\"Nevin Tomy\",\n",
    "\"Jason Huang\",\n",
    "\"Anindita\",\n",
    "\"Vrunda Patel\",\n",
    "\"Sravan Pingali\")\n",
    "JDA_Tuple"
   ]
  },
  {
   "cell_type": "code",
   "execution_count": 71,
   "id": "dd3436c5",
   "metadata": {},
   "outputs": [
    {
     "data": {
      "text/plain": [
       "['Abdul Wahid Khudayar',\n",
       " 'Addy Rose',\n",
       " 'Anuoluwapo Oluseyi',\n",
       " 'Aravindh Kuppusamy Haridoss',\n",
       " 'Carlo Halnin',\n",
       " 'Juned Chhiboo',\n",
       " 'Cici Ann Joji',\n",
       " 'DHRUVKUMAR PATEL',\n",
       " 'Erkan Kumesogut',\n",
       " 'Exaltacao Rodrigues',\n",
       " 'fatma tuncalan',\n",
       " 'harpreet kaur',\n",
       " 'Harun Omar-Godane',\n",
       " 'Hossain Ghahraloud',\n",
       " 'Jesso Thomas',\n",
       " 'Kamiar Mehmannavazan',\n",
       " 'Karthik Sai',\n",
       " 'Kwabena Gyasi-Boateng',\n",
       " 'L Reetika',\n",
       " 'mariya amtullah',\n",
       " 'Marwa Musa',\n",
       " 'Meelad Armani',\n",
       " 'Miguel Diaz',\n",
       " 'Mohammad Dabbour',\n",
       " 'Pouria Raziei',\n",
       " 'Reena Thakur',\n",
       " 'Robin Francis Thomas',\n",
       " 'Rohan Thomas',\n",
       " 'Ronit Soni',\n",
       " 'Sameeha Bala',\n",
       " 'Supriya Kanda',\n",
       " 'Weslie Chung',\n",
       " 'Ying Fei Li',\n",
       " 'Poojan Modi',\n",
       " 'Alexander Hailu',\n",
       " 'Ekaterina Shalygina',\n",
       " 'Nevin Tomy',\n",
       " 'Jason Huang',\n",
       " 'Anindita',\n",
       " 'Vrunda Patel',\n",
       " 'Sravan Pingali']"
      ]
     },
     "execution_count": 71,
     "metadata": {},
     "output_type": "execute_result"
    }
   ],
   "source": [
    "#Q2 Convert the tuple into a list called pps_L\n",
    "JDA_list=list(JDA_Tuple)\n",
    "JDA_list"
   ]
  },
  {
   "cell_type": "code",
   "execution_count": 72,
   "id": "c3150e48",
   "metadata": {},
   "outputs": [
    {
     "data": {
      "text/plain": [
       "41"
      ]
     },
     "execution_count": 72,
     "metadata": {},
     "output_type": "execute_result"
    }
   ],
   "source": [
    "#Q3 What is the length of your list\n",
    "len(JDA_list)"
   ]
  },
  {
   "cell_type": "code",
   "execution_count": 73,
   "id": "c92d7915",
   "metadata": {},
   "outputs": [
    {
     "name": "stdout",
     "output_type": "stream",
     "text": [
      "Aravindh Kuppusamy Haridoss\n",
      "Juned Chhiboo\n",
      "Jesso Thomas\n",
      "Supriya Kanda\n",
      "Anindita\n"
     ]
    }
   ],
   "source": [
    "#Q4 Find the values stored in indexes [3],[5],[14],[30],[38]\n",
    "print(JDA_list[3])\n",
    "print(JDA_list[5])\n",
    "print(JDA_list[14])\n",
    "print(JDA_list[30])\n",
    "print(JDA_list[38])\n",
    "\n",
    "\n"
   ]
  },
  {
   "cell_type": "code",
   "execution_count": 74,
   "id": "2d61758c",
   "metadata": {},
   "outputs": [
    {
     "data": {
      "text/plain": [
       "False"
      ]
     },
     "execution_count": 74,
     "metadata": {},
     "output_type": "execute_result"
    }
   ],
   "source": [
    "#Q5 Check if \"Sarah\" is in the list\n",
    "[\"Sarah\"] in JDA_list"
   ]
  },
  {
   "cell_type": "code",
   "execution_count": 75,
   "id": "d9817699",
   "metadata": {},
   "outputs": [
    {
     "data": {
      "text/plain": [
       "['Abdul Wahid Khudayar',\n",
       " 'Addy Rose',\n",
       " 'Anuoluwapo Oluseyi',\n",
       " 'Aravindh Kuppusamy Haridoss',\n",
       " 'Carlo Halnin',\n",
       " 'Juned Chhiboo',\n",
       " 'Cici Ann Joji',\n",
       " 'DHRUVKUMAR PATEL',\n",
       " 'Erkan Kumesogut',\n",
       " 'Exaltacao Rodrigues',\n",
       " 'fatma tuncalan',\n",
       " 'harpreet kaur',\n",
       " 'Harun Omar-Godane',\n",
       " 'Hossain Ghahraloud',\n",
       " 'Jesso Thomas',\n",
       " 'Kamiar Mehmannavazan',\n",
       " 'Karthik Sai',\n",
       " 'Kwabena Gyasi-Boateng',\n",
       " 'L Reetika',\n",
       " 'mariya amtullah',\n",
       " 'Marwa Musa',\n",
       " 'Meelad Armani',\n",
       " 'Miguel Diaz',\n",
       " 'Mohammad Dabbour',\n",
       " 'Pouria Raziei',\n",
       " 'Reena Thakur',\n",
       " 'Robin Francis Thomas',\n",
       " 'Rohan Thomas',\n",
       " 'Ronit Soni',\n",
       " 'Sameeha Bala',\n",
       " 'Supriya Kanda',\n",
       " 'Weslie Chung',\n",
       " 'Ying Fei Li',\n",
       " 'Poojan Modi',\n",
       " 'Alexander Hailu',\n",
       " 'Ekaterina Shalygina',\n",
       " 'Nevin Tomy',\n",
       " 'Jason Huang',\n",
       " 'Anindita',\n",
       " 'Vrunda Patel',\n",
       " 'Sravan Pingali',\n",
       " 'Sarah']"
      ]
     },
     "execution_count": 75,
     "metadata": {},
     "output_type": "execute_result"
    }
   ],
   "source": [
    "#Q6 Add \"Sarah\" to your list\n",
    "JDA_list.append(\"Sarah\")\n",
    "JDA_list"
   ]
  },
  {
   "cell_type": "code",
   "execution_count": 76,
   "id": "3659db92",
   "metadata": {},
   "outputs": [
    {
     "data": {
      "text/plain": [
       "False"
      ]
     },
     "execution_count": 76,
     "metadata": {},
     "output_type": "execute_result"
    }
   ],
   "source": [
    "#Q7 Check if \"Bashir\" is in the list\n",
    "[\"Bashir\"] in JDA_list"
   ]
  },
  {
   "cell_type": "code",
   "execution_count": 77,
   "id": "2af6720a",
   "metadata": {},
   "outputs": [
    {
     "data": {
      "text/plain": [
       "['Abdul Wahid Khudayar',\n",
       " 'Addy Rose',\n",
       " 'Anuoluwapo Oluseyi',\n",
       " 'Aravindh Kuppusamy Haridoss',\n",
       " 'Carlo Halnin',\n",
       " 'Juned Chhiboo',\n",
       " 'Cici Ann Joji',\n",
       " 'DHRUVKUMAR PATEL',\n",
       " 'Erkan Kumesogut',\n",
       " 'Exaltacao Rodrigues',\n",
       " 'fatma tuncalan',\n",
       " 'harpreet kaur',\n",
       " 'Harun Omar-Godane',\n",
       " 'Hossain Ghahraloud',\n",
       " 'Jesso Thomas',\n",
       " 'Kamiar Mehmannavazan',\n",
       " 'Karthik Sai',\n",
       " 'Kwabena Gyasi-Boateng',\n",
       " 'L Reetika',\n",
       " 'mariya amtullah',\n",
       " 'Marwa Musa',\n",
       " 'Meelad Armani',\n",
       " 'Miguel Diaz',\n",
       " 'Mohammad Dabbour',\n",
       " 'Pouria Raziei',\n",
       " 'Reena Thakur',\n",
       " 'Robin Francis Thomas',\n",
       " 'Rohan Thomas',\n",
       " 'Ronit Soni',\n",
       " 'Sameeha Bala',\n",
       " 'Supriya Kanda',\n",
       " 'Weslie Chung',\n",
       " 'Ying Fei Li',\n",
       " 'Poojan Modi',\n",
       " 'Alexander Hailu',\n",
       " 'Ekaterina Shalygina',\n",
       " 'Nevin Tomy',\n",
       " 'Jason Huang',\n",
       " 'Anindita',\n",
       " 'Vrunda Patel',\n",
       " 'Sravan Pingali',\n",
       " 'Sarah',\n",
       " 'Bashir']"
      ]
     },
     "execution_count": 77,
     "metadata": {},
     "output_type": "execute_result"
    }
   ],
   "source": [
    "#Q9 Add \"Bashir\" to your list\n",
    "JDA_list.append(\"Bashir\")\n",
    "JDA_list"
   ]
  },
  {
   "cell_type": "code",
   "execution_count": 78,
   "id": "23d72937",
   "metadata": {},
   "outputs": [
    {
     "data": {
      "text/plain": [
       "41"
      ]
     },
     "execution_count": 78,
     "metadata": {},
     "output_type": "execute_result"
    }
   ],
   "source": [
    "#Q10 Find the index of the element \"Sarah\" in the list\n",
    "JDA_list.index(\"Sarah\")"
   ]
  },
  {
   "cell_type": "code",
   "execution_count": 79,
   "id": "917f9a84",
   "metadata": {},
   "outputs": [
    {
     "data": {
      "text/plain": [
       "['Abdul Wahid Khudayar',\n",
       " 'Addy Rose',\n",
       " 'Anuoluwapo Oluseyi',\n",
       " 'Aravindh Kuppusamy Haridoss',\n",
       " 'Carlo Halnin',\n",
       " 'Juned Chhiboo',\n",
       " 'Cici Ann Joji',\n",
       " ['Instructor'],\n",
       " 'Erkan Kumesogut',\n",
       " 'Exaltacao Rodrigues',\n",
       " 'fatma tuncalan',\n",
       " 'harpreet kaur',\n",
       " 'Harun Omar-Godane',\n",
       " 'Hossain Ghahraloud',\n",
       " 'Jesso Thomas',\n",
       " 'Kamiar Mehmannavazan',\n",
       " 'Karthik Sai',\n",
       " 'Kwabena Gyasi-Boateng',\n",
       " 'L Reetika',\n",
       " 'mariya amtullah',\n",
       " 'Marwa Musa',\n",
       " 'Meelad Armani',\n",
       " 'Miguel Diaz',\n",
       " 'Mohammad Dabbour',\n",
       " 'Pouria Raziei',\n",
       " 'Reena Thakur',\n",
       " 'Robin Francis Thomas',\n",
       " 'Rohan Thomas',\n",
       " 'Ronit Soni',\n",
       " 'Sameeha Bala',\n",
       " 'Supriya Kanda',\n",
       " 'Weslie Chung',\n",
       " 'Ying Fei Li',\n",
       " 'Poojan Modi',\n",
       " 'Alexander Hailu',\n",
       " 'Ekaterina Shalygina',\n",
       " 'Nevin Tomy',\n",
       " 'Jason Huang',\n",
       " 'Anindita',\n",
       " 'Vrunda Patel',\n",
       " 'Sravan Pingali',\n",
       " 'Sarah',\n",
       " 'Bashir']"
      ]
     },
     "execution_count": 79,
     "metadata": {},
     "output_type": "execute_result"
    }
   ],
   "source": [
    "#Q11 Change the value of the index in Q10 from \"Sarah\" to \"Instructor\"\n",
    "JDA_list[7]=[\"Instructor\"]\n",
    "JDA_list"
   ]
  },
  {
   "cell_type": "code",
   "execution_count": 80,
   "id": "b7a7f9a6",
   "metadata": {},
   "outputs": [
    {
     "data": {
      "text/plain": [
       "42"
      ]
     },
     "execution_count": 80,
     "metadata": {},
     "output_type": "execute_result"
    }
   ],
   "source": [
    "#Q12 Find the index of the element \"Bashir\" in the list\n",
    "JDA_list.index(\"Bashir\")"
   ]
  },
  {
   "cell_type": "code",
   "execution_count": 81,
   "id": "2a05a5e3",
   "metadata": {},
   "outputs": [
    {
     "data": {
      "text/plain": [
       "['Abdul Wahid Khudayar',\n",
       " 'Addy Rose',\n",
       " 'Anuoluwapo Oluseyi',\n",
       " 'Aravindh Kuppusamy Haridoss',\n",
       " 'Carlo Halnin',\n",
       " 'Juned Chhiboo',\n",
       " 'Cici Ann Joji',\n",
       " ['Instructor'],\n",
       " 'Erkan Kumesogut',\n",
       " 'Exaltacao Rodrigues',\n",
       " 'fatma tuncalan',\n",
       " 'harpreet kaur',\n",
       " 'Harun Omar-Godane',\n",
       " 'Hossain Ghahraloud',\n",
       " 'Jesso Thomas',\n",
       " 'Kamiar Mehmannavazan',\n",
       " 'Karthik Sai',\n",
       " 'Kwabena Gyasi-Boateng',\n",
       " 'L Reetika',\n",
       " 'mariya amtullah',\n",
       " 'Marwa Musa',\n",
       " 'Meelad Armani',\n",
       " 'Miguel Diaz',\n",
       " 'Mohammad Dabbour',\n",
       " 'Pouria Raziei',\n",
       " 'Reena Thakur',\n",
       " 'Robin Francis Thomas',\n",
       " 'Rohan Thomas',\n",
       " 'Ronit Soni',\n",
       " 'Sameeha Bala',\n",
       " 'Supriya Kanda',\n",
       " 'Weslie Chung',\n",
       " 'Ying Fei Li',\n",
       " 'Poojan Modi',\n",
       " 'Alexander Hailu',\n",
       " 'Ekaterina Shalygina',\n",
       " 'Nevin Tomy',\n",
       " 'Jason Huang',\n",
       " 'Anindita',\n",
       " 'Vrunda Patel',\n",
       " 'Sravan Pingali',\n",
       " 'Sarah',\n",
       " ['Peer-Mentor']]"
      ]
     },
     "execution_count": 81,
     "metadata": {},
     "output_type": "execute_result"
    }
   ],
   "source": [
    "#Q13 Change the value of the index in Q12 from \"Bashir\" to \"Peer-Mentor\"\n",
    "JDA_list[42]=[\"Peer-Mentor\"]\n",
    "JDA_list"
   ]
  },
  {
   "cell_type": "code",
   "execution_count": 84,
   "id": "12f49fff",
   "metadata": {},
   "outputs": [
    {
     "name": "stdout",
     "output_type": "stream",
     "text": [
      "True\n"
     ]
    },
    {
     "data": {
      "text/plain": [
       "41"
      ]
     },
     "execution_count": 84,
     "metadata": {},
     "output_type": "execute_result"
    }
   ],
   "source": [
    "#Q11 Change the value of the index in Q10 from \"Sarah\" to \"Instructor\"\n",
    "JDA_list[41]=\"Instructor\"\n",
    "print(\"Instructor\" in JDA_list)\n",
    "JDA_list.index(\"Instructor\")"
   ]
  },
  {
   "cell_type": "code",
   "execution_count": 85,
   "id": "59c2fff1",
   "metadata": {},
   "outputs": [
    {
     "name": "stdout",
     "output_type": "stream",
     "text": [
      "Item 3 is found at index [1, 5]\n"
     ]
    }
   ],
   "source": [
    "ints = [1, 3, 7, 5, 4, 3]\n",
    "item = 3\n",
    " \n",
    "indexes = [i for i in range(len(ints)) if ints[i] == item]\n",
    "print(f\"Item {item} is found at index {indexes}\")\n",
    " "
   ]
  },
  {
   "cell_type": "code",
   "execution_count": 88,
   "id": "8ad75b89",
   "metadata": {},
   "outputs": [
    {
     "name": "stdout",
     "output_type": "stream",
     "text": [
      "13\n"
     ]
    }
   ],
   "source": [
    "#99 = 5 # define the value to search for\n",
    "\n",
    "li = [1,2,89,11,\"km\",55,99,66,678, \"dx\", 10,\"dx\", 11, 99,\"dx\", \"dx\", 4, 5, 6]\n",
    "first_index = li.index(99)  # find the index of the first occurrence of dx\n",
    "second_index = li.index(99, first_index+1)  # find the index of the second occurrence of dx\n",
    "print(second_index)"
   ]
  },
  {
   "cell_type": "markdown",
   "id": "4e6936c4",
   "metadata": {},
   "source": [
    "<h1>Python Dictionary Exercises</h1>"
   ]
  },
  {
   "cell_type": "code",
   "execution_count": 1,
   "id": "846d1bc4",
   "metadata": {},
   "outputs": [
    {
     "data": {
      "text/plain": [
       "{'KA': 'Akmeela Abdi',\n",
       " 'OA': 'Oluseun Adebayo',\n",
       " 'CA': 'Christianah Adeoya',\n",
       " 'RA': 'Rispa Adjei',\n",
       " 'AB': 'Arvishkumar Barot',\n",
       " 'YD': 'Yahya Darman',\n",
       " 'RD': 'Ramya Duraisamy',\n",
       " 'VE': 'Valentina Egorova',\n",
       " 'NE': 'Nurcin Eroglu',\n",
       " 'FF': 'Femi Felix',\n",
       " 'SG': 'Srishti Garg',\n",
       " 'NG': 'Nathan Gaynor',\n",
       " 'DG': 'Devinder Singh Gullia',\n",
       " 'SN': 'Fatima Sanjeedha Haja',\n",
       " 'KH': 'Kai Hung Ho',\n",
       " 'MS': 'Md Sharharuf Hossain',\n",
       " 'SH': 'Said Huner',\n",
       " 'RK': 'Rajbir Kaur',\n",
       " 'KK': 'Konomi Kohara'}"
      ]
     },
     "execution_count": 1,
     "metadata": {},
     "output_type": "execute_result"
    }
   ],
   "source": [
    "#Q1 Create a dictionary for all participants in the JDA program.\n",
    "#Keys should be the first letter in their names, Values should be their names.\n",
    "#[Hint] dic={\"l\":(Leul),\"J\":(Jerry,Jainam)........}\n",
    "dic={\"KA\":\"Akmeela Abdi\",\"OA\":\"Oluseun Adebayo\",\"CA\":\"Christianah Adeoya\",\"RA\":\"Rispa Adjei\",\"AB\":\"Abdullah Bahaj\",\"AB\":\"Arvishkumar Barot\",\"YD\":\"Yahya Darman\",\"RD\":\"Ramya Duraisamy\",\"VE\":\"Valentina Egorova\",\"NE\":\"Nurcin Eroglu\",\"FF\":\"Femi Felix\",\"SG\":\"Srishti Garg\",\"NG\":\"Nathan Gaynor\",\"DG\":\"Devinder Singh Gullia\",\"SN\":\"Fatima Sanjeedha Haja\",\"KH\":\"Kai Hung Ho\",\"MS\":\"Md Sharharuf Hossain\",\"SH\":\"Said Huner\",\"RK\":\"Rajbir Kaur\",\"KK\":\"Konomi Kohara\"}\n",
    "dic"
   ]
  },
  {
   "cell_type": "code",
   "execution_count": 2,
   "id": "49ac6ea8",
   "metadata": {},
   "outputs": [
    {
     "data": {
      "text/plain": [
       "dict_keys(['KA', 'OA', 'CA', 'RA', 'AB', 'YD', 'RD', 'VE', 'NE', 'FF', 'SG', 'NG', 'DG', 'SN', 'KH', 'MS', 'SH', 'RK', 'KK'])"
      ]
     },
     "execution_count": 2,
     "metadata": {},
     "output_type": "execute_result"
    }
   ],
   "source": [
    "#Q2 What are the keys of your dictionary\n",
    "dic.keys()"
   ]
  },
  {
   "cell_type": "code",
   "execution_count": 3,
   "id": "85fd117f",
   "metadata": {},
   "outputs": [
    {
     "data": {
      "text/plain": [
       "dict_values(['Akmeela Abdi', 'Oluseun Adebayo', 'Christianah Adeoya', 'Rispa Adjei', 'Arvishkumar Barot', 'Yahya Darman', 'Ramya Duraisamy', 'Valentina Egorova', 'Nurcin Eroglu', 'Femi Felix', 'Srishti Garg', 'Nathan Gaynor', 'Devinder Singh Gullia', 'Fatima Sanjeedha Haja', 'Kai Hung Ho', 'Md Sharharuf Hossain', 'Said Huner', 'Rajbir Kaur', 'Konomi Kohara'])"
      ]
     },
     "execution_count": 3,
     "metadata": {},
     "output_type": "execute_result"
    }
   ],
   "source": [
    "#Q3 What are the values of your dictionary\n",
    "dic.values()"
   ]
  },
  {
   "cell_type": "code",
   "execution_count": 6,
   "id": "38fbdb48",
   "metadata": {},
   "outputs": [
    {
     "name": "stdout",
     "output_type": "stream",
     "text": [
      "Arvishkumar Barot\n",
      "Devinder Singh Gullia\n"
     ]
    }
   ],
   "source": [
    "#Q4 Find participant's names that start with J,I,M,C,A\n",
    "print(dic[\"AB\"])\n",
    "print(dic[\"DG\"])"
   ]
  },
  {
   "cell_type": "code",
   "execution_count": 7,
   "id": "14fe3ab6",
   "metadata": {},
   "outputs": [
    {
     "data": {
      "text/plain": [
       "{'KA': 'Akmeela Abdi',\n",
       " 'OA': 'Oluseun Adebayo',\n",
       " 'CA': 'Christianah Adeoya',\n",
       " 'RA': 'Rispa Adjei',\n",
       " 'AB': 'Arvishkumar Barot',\n",
       " 'YD': 'Yahya Darman',\n",
       " 'RD': 'Ramya Duraisamy',\n",
       " 'VE': 'Valentina Egorova',\n",
       " 'NE': 'Nurcin Eroglu',\n",
       " 'FF': 'Femi Felix',\n",
       " 'SG': 'Srishti Garg',\n",
       " 'NG': 'Nathan Gaynor',\n",
       " 'DG': 'Devinder Singh Gullia',\n",
       " 'SN': 'Fatima Sanjeedha Haja',\n",
       " 'KH': 'Kai Hung Ho',\n",
       " 'MS': 'Md Sharharuf Hossain',\n",
       " 'SH': 'Said Huner',\n",
       " 'RK': 'Rajbir Kaur',\n",
       " 'KK': 'Konomi Kohara',\n",
       " 'K,PD': {'Kristina'}}"
      ]
     },
     "execution_count": 7,
     "metadata": {},
     "output_type": "execute_result"
    }
   ],
   "source": [
    "#Q5 Add the following to your dictionary\n",
    "# Key<(K,PD)>, Value<(Kristina)>\n",
    "dic[\"K,PD\"]={\"Kristina\"}\n",
    "dic"
   ]
  },
  {
   "cell_type": "code",
   "execution_count": 8,
   "id": "acc281cc",
   "metadata": {},
   "outputs": [
    {
     "data": {
      "text/plain": [
       "20"
      ]
     },
     "execution_count": 8,
     "metadata": {},
     "output_type": "execute_result"
    }
   ],
   "source": [
    "#Q6 Find the length of your dictionary\n",
    "len(dic)"
   ]
  },
  {
   "cell_type": "code",
   "execution_count": 9,
   "id": "b48ad9b9",
   "metadata": {},
   "outputs": [
    {
     "data": {
      "text/plain": [
       "{'KA': 'Akmeela Abdi',\n",
       " 'OA': 'Oluseun Adebayo',\n",
       " 'CA': 'Christianah Adeoya',\n",
       " 'RA': 'Rispa Adjei',\n",
       " 'AB': 'Arvishkumar Barot',\n",
       " 'YD': 'Yahya Darman',\n",
       " 'RD': 'Ramya Duraisamy',\n",
       " 'VE': 'Valentina Egorova',\n",
       " 'NE': 'Nurcin Eroglu',\n",
       " 'FF': 'Femi Felix',\n",
       " 'SG': 'Srishti Garg',\n",
       " 'NG': 'Nathan Gaynor',\n",
       " 'DG': 'Devinder Singh Gullia',\n",
       " 'SN': 'Fatima Sanjeedha Haja',\n",
       " 'KH': 'Kai Hung Ho',\n",
       " 'MS': 'Md Sharharuf Hossain',\n",
       " 'SH': 'Said Huner',\n",
       " 'RK': 'Rajbir Kaur',\n",
       " 'KK': 'Konomi Kohara',\n",
       " 'K,PD': {'Kristina'},\n",
       " 'S,Instructor': 'Sarah',\n",
       " 'J': ''}"
      ]
     },
     "execution_count": 9,
     "metadata": {},
     "output_type": "execute_result"
    }
   ],
   "source": [
    "#Q7 Add the following to your dictionary\n",
    "# Key<(S,Instructor)>, Value<(Sarah)>, Key<J>\n",
    "dic[\"S,Instructor\"]=\"Sarah\"\n",
    "dic[\"J\"]=\"\"\n",
    "dic"
   ]
  },
  {
   "cell_type": "code",
   "execution_count": 10,
   "id": "d7a81dd0",
   "metadata": {},
   "outputs": [
    {
     "data": {
      "text/plain": [
       "22"
      ]
     },
     "execution_count": 10,
     "metadata": {},
     "output_type": "execute_result"
    }
   ],
   "source": [
    "#Q8 Find the length of your dictionary\n",
    "len(dic)"
   ]
  },
  {
   "cell_type": "code",
   "execution_count": 11,
   "id": "cefb65ea",
   "metadata": {},
   "outputs": [
    {
     "data": {
      "text/plain": [
       "{'KA': 'Akmeela Abdi',\n",
       " 'OA': 'Oluseun Adebayo',\n",
       " 'CA': 'Christianah Adeoya',\n",
       " 'RA': 'Rispa Adjei',\n",
       " 'AB': 'Arvishkumar Barot',\n",
       " 'YD': 'Yahya Darman',\n",
       " 'RD': 'Ramya Duraisamy',\n",
       " 'VE': 'Valentina Egorova',\n",
       " 'NE': 'Nurcin Eroglu',\n",
       " 'FF': 'Femi Felix',\n",
       " 'SG': 'Srishti Garg',\n",
       " 'NG': 'Nathan Gaynor',\n",
       " 'DG': 'Devinder Singh Gullia',\n",
       " 'SN': 'Fatima Sanjeedha Haja',\n",
       " 'KH': 'Kai Hung Ho',\n",
       " 'MS': 'Md Sharharuf Hossain',\n",
       " 'SH': 'Said Huner',\n",
       " 'RK': 'Rajbir Kaur',\n",
       " 'KK': 'Konomi Kohara',\n",
       " 'K,PD': {'Kristina'},\n",
       " 'J': ''}"
      ]
     },
     "execution_count": 11,
     "metadata": {},
     "output_type": "execute_result"
    }
   ],
   "source": [
    "#Q7 Delete the following keys from your dictionary\n",
    "#Key<(S,Instructor)>\n",
    "#Key<J>\n",
    "del(dic[\"S,Instructor\"])\n",
    "dic"
   ]
  },
  {
   "cell_type": "code",
   "execution_count": 12,
   "id": "b1500694",
   "metadata": {},
   "outputs": [
    {
     "data": {
      "text/plain": [
       "21"
      ]
     },
     "execution_count": 12,
     "metadata": {},
     "output_type": "execute_result"
    }
   ],
   "source": [
    "#Q9 Find the length of your dictionary\n",
    "len(dic)"
   ]
  },
  {
   "cell_type": "code",
   "execution_count": 16,
   "id": "31a7d2ef",
   "metadata": {},
   "outputs": [],
   "source": [
    "#Q10 Create a new dictionary called synonyms_dic\n",
    "synonym_dic={}\n",
    "#type(synonym_dic)"
   ]
  },
  {
   "cell_type": "code",
   "execution_count": 24,
   "id": "5f484cf8",
   "metadata": {},
   "outputs": [],
   "source": [
    "#Q11 Add the synonyms of the following words to your dictionary\n",
    "#Bad, Good, Awesome, Cold, Easy, Hard, Big, Small\"\n",
    "synonym_dic={\"Bad\": \"poor\",\"Good\":\"fine\",\"Awesome\": \"amazing\",\"Cold\":\"chilly\", \"Easy\": \"painless\",\"Hard\":\"firm\", \"Big\": \"massiv\",\"Small\":\"tiny\"}"
   ]
  },
  {
   "cell_type": "code",
   "execution_count": 25,
   "id": "544a6799",
   "metadata": {},
   "outputs": [
    {
     "name": "stdout",
     "output_type": "stream",
     "text": [
      "amazing\n",
      "painless\n",
      "tiny\n",
      "None\n"
     ]
    }
   ],
   "source": [
    "#Q12 Use your dictionary to find the synonym of the following words\n",
    "# Awesome, Easy, Small, Old\n",
    "print(synonym_dic[\"Awesome\"])\n",
    "print(synonym_dic[\"Easy\"])\n",
    "print(synonym_dic.get(\"Small\"))\n",
    "print(synonym_dic.get(\"Old\"))\n"
   ]
  },
  {
   "cell_type": "code",
   "execution_count": 26,
   "id": "4dc7e1aa",
   "metadata": {},
   "outputs": [
    {
     "name": "stdout",
     "output_type": "stream",
     "text": [
      "dict_values(['poor', 'fine', 'amazing', 'chilly', 'painless', 'firm', 'massiv', 'tiny'])\n"
     ]
    },
    {
     "data": {
      "text/plain": [
       "{}"
      ]
     },
     "execution_count": 26,
     "metadata": {},
     "output_type": "execute_result"
    }
   ],
   "source": [
    "#Q13 Delete everything from synonyms_dic\n",
    "#The clear() method clears all the items in the dictionary.\n",
    "#The del keyword method uses the keyword from the dictionary to remove an item.\n",
    "#The pop() method, The pop method uses the keyword from the given dictionary to remove an item from that dictionary. \n",
    "#The pop method is similar to the del keyword method because they both use the keyword from the dictionary.\n",
    "#The popitem() method, The popitem() removes the last item added to the dictionary.\n",
    "print(synonym_dic.values())\n",
    "synonym_dic.clear()\n",
    "synonym_dic\n"
   ]
  },
  {
   "cell_type": "code",
   "execution_count": 27,
   "id": "e551e97b",
   "metadata": {},
   "outputs": [
    {
     "data": {
      "text/plain": [
       "dict_values([])"
      ]
     },
     "execution_count": 27,
     "metadata": {},
     "output_type": "execute_result"
    }
   ],
   "source": [
    "#Q14 Print all values in synonyms_dic\n",
    "synonym_dic.values()"
   ]
  },
  {
   "cell_type": "markdown",
   "id": "10960ecb",
   "metadata": {},
   "source": [
    "<b>Convert List to Dictionary </b>, we can use the Python <b>zip() function</b>. This function lets us merge two lists together. We can use one list as the keys for the dictionary and the other as the values.\n",
    "\n",
    "<b>dict.fromkeys()</b>: Used to create a dictionary from a list. You can optionally set a default value for all keys. You cannot set individual values for each item in the dictionary."
   ]
  },
  {
   "cell_type": "code",
   "execution_count": 28,
   "id": "2d7b69ef",
   "metadata": {},
   "outputs": [
    {
     "data": {
      "text/plain": [
       "{'True': 1, 'False': 0}"
      ]
     },
     "execution_count": 28,
     "metadata": {},
     "output_type": "execute_result"
    }
   ],
   "source": [
    "#Q15 Convert the below two lists into dictionary\n",
    "Keys=[\"True\",\"False\"]\n",
    "Values=[1,0]\n",
    "list_to_dic=dict(zip(Keys,Values))\n",
    "list_to_dic"
   ]
  },
  {
   "cell_type": "code",
   "execution_count": 29,
   "id": "122ec9b7",
   "metadata": {},
   "outputs": [
    {
     "data": {
      "text/plain": [
       "4480"
      ]
     },
     "execution_count": 29,
     "metadata": {},
     "output_type": "execute_result"
    }
   ],
   "source": [
    "#Q16 Sum all the values in the following dictionary\n",
    "income={'Jan':1000,'Feb':1500,'Mar':980,'April':1000}\n",
    "sum(income.values())"
   ]
  },
  {
   "cell_type": "code",
   "execution_count": 30,
   "id": "8831d712",
   "metadata": {},
   "outputs": [
    {
     "name": "stdout",
     "output_type": "stream",
     "text": [
      "encryption word of 110 is I\n",
      "encryption word of 101 is am\n",
      "encryption word of 10 is hungry\n",
      "encryption word of 1011 is and\n",
      "encryption word of 110 is I\n",
      "encryption word of 1001 is want\n",
      "encryption word of 1101 is food\n",
      "encryption word of 11011 is now\n"
     ]
    }
   ],
   "source": [
    "#Q17 Create the following dictionary encryption={10:\"hungry\", 101:\"am\", 110:\"I\",1011:\" \" 110:\" \" 1001:\" \" 1:\" \"}\n",
    "# What should be the decryption of the following code \"110 101 10 1011 110 1001 1\"\n",
    "encryption={10:\"hungry\", 101:\"am\", 1001:\"want\",1101:\"food\",110:\"I\",1011:\"and\", 11011:\"now\"}\n",
    "keys = [ 110, 101, 10, 1011, 110, 1001, 1101, 11011]\n",
    "\n",
    "for key in keys:\n",
    "    print(\"encryption word of {} is\".format(key) + \" \" + encryption[key])"
   ]
  },
  {
   "cell_type": "code",
   "execution_count": null,
   "id": "809648ca",
   "metadata": {},
   "outputs": [],
   "source": []
  }
 ],
 "metadata": {
  "kernelspec": {
   "display_name": "Python 3 (ipykernel)",
   "language": "python",
   "name": "python3"
  },
  "language_info": {
   "codemirror_mode": {
    "name": "ipython",
    "version": 3
   },
   "file_extension": ".py",
   "mimetype": "text/x-python",
   "name": "python",
   "nbconvert_exporter": "python",
   "pygments_lexer": "ipython3",
   "version": "3.9.13"
  }
 },
 "nbformat": 4,
 "nbformat_minor": 5
}
